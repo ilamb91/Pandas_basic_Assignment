{
 "cells": [
  {
   "cell_type": "markdown",
   "id": "45c30732-4f2e-4c3c-9e22-c5f6adbe2c4f",
   "metadata": {},
   "source": [
    "Q1. Create a Pandas Series that contains the following data: 4, 8, 15, 16, 23, and 42. Then, print the series."
   ]
  },
  {
   "cell_type": "code",
   "execution_count": 9,
   "id": "10cf314f-77dc-4199-b4fe-7174eff10cfb",
   "metadata": {},
   "outputs": [
    {
     "name": "stdout",
     "output_type": "stream",
     "text": [
      "Requirement already satisfied: pandas in /opt/conda/lib/python3.10/site-packages (1.5.2)\n",
      "Requirement already satisfied: python-dateutil>=2.8.1 in /opt/conda/lib/python3.10/site-packages (from pandas) (2.8.2)\n",
      "Requirement already satisfied: pytz>=2020.1 in /opt/conda/lib/python3.10/site-packages (from pandas) (2022.6)\n",
      "Requirement already satisfied: numpy>=1.21.0 in /opt/conda/lib/python3.10/site-packages (from pandas) (1.23.5)\n",
      "Requirement already satisfied: six>=1.5 in /opt/conda/lib/python3.10/site-packages (from python-dateutil>=2.8.1->pandas) (1.16.0)\n",
      "Note: you may need to restart the kernel to use updated packages.\n"
     ]
    }
   ],
   "source": [
    "pip install pandas"
   ]
  },
  {
   "cell_type": "code",
   "execution_count": 1,
   "id": "f1e2f6fc-83cd-4a91-9d5a-cf00f9c3dbba",
   "metadata": {},
   "outputs": [
    {
     "name": "stdout",
     "output_type": "stream",
     "text": [
      "0     4\n",
      "1     8\n",
      "2    15\n",
      "3    16\n",
      "4    23\n",
      "5    42\n",
      "dtype: int64\n"
     ]
    }
   ],
   "source": [
    "import pandas as pd\n",
    "q1 = pd.Series ([4, 8, 15, 16, 23, 42])\n",
    "print(q1)"
   ]
  },
  {
   "cell_type": "markdown",
   "id": "fd9d78b2-c556-4fef-8ae2-cc4aabe9d544",
   "metadata": {},
   "source": [
    "Q2. Create a variable of list type containing 10 elements in it, and apply pandas.Series function on the\n",
    "variable print it."
   ]
  },
  {
   "cell_type": "code",
   "execution_count": 2,
   "id": "e4a234c1-84a4-41bc-9efe-bcd989e997ab",
   "metadata": {},
   "outputs": [
    {
     "name": "stdout",
     "output_type": "stream",
     "text": [
      "0                       My\n",
      "1                     name\n",
      "2                       is\n",
      "3                     Lamb\n",
      "4                Christian\n",
      "5                       31\n",
      "6    Environmental Science\n",
      "7             Data Science\n",
      "8             pandas_basic\n",
      "9               assignment\n",
      "dtype: object\n"
     ]
    }
   ],
   "source": [
    "q2 = pd.Series (['My', 'name', 'is', 'Lamb', 'Christian', 31, 'Environmental Science', 'Data Science', 'pandas_basic', 'assignment'])\n",
    "print(q2)"
   ]
  },
  {
   "cell_type": "markdown",
   "id": "0bc00d77-9680-4fe7-931e-76829b862eb3",
   "metadata": {},
   "source": [
    "Q3. Create a Pandas DataFrame that contains the following data: Then, print the DataFrame."
   ]
  },
  {
   "cell_type": "code",
   "execution_count": 6,
   "id": "667890be-65ee-4e2b-a793-818863eb3270",
   "metadata": {},
   "outputs": [
    {
     "name": "stdout",
     "output_type": "stream",
     "text": [
      "     Name  Age  Gender\n",
      "0   Alice   25  Female\n",
      "1     Bob   30    Male\n",
      "2  Claire   27  Female\n"
     ]
    }
   ],
   "source": [
    "DataFrame = pd.read_csv(\"Q3 - Pandas Basic Assignment.csv\")\n",
    "print (DataFrame)"
   ]
  },
  {
   "cell_type": "markdown",
   "id": "ad15b416-ff29-4a9d-ab02-046765c791b2",
   "metadata": {},
   "source": [
    "Q4. What is ‘DataFrame’ in pandas and how is it different from pandas.series? Explain with an example."
   ]
  },
  {
   "cell_type": "markdown",
   "id": "0f46780e-3c98-4f04-b236-c2f3c7193847",
   "metadata": {
    "tags": []
   },
   "source": [
    "A4. Pandas DataFrame is two-dimensional size-mutable, potentially heterogeneous tabular data structure with labeled axes (rows and columns). A Data frame is a two-dimensional data structure, i.e., data is aligned in a tabular fashion in rows and columns. Pandas DataFrame consists of three principal components, the data, rows, and columns.\n",
    "\n",
    "# There are some key differences between the two data structures.\n",
    "- Dimensions : The dimensions of the data are where a Pandas Series and a single-column DataFrame most obviously diverge. A Series only has one data column, whereas a single-column DataFrame contains both a data column and an index. The labels for the data are contained in the index, which is a second column.\n",
    "\n",
    "- Functionality : There are certain distinctions in the extra features that a Series and a single-column DataFrame offer, despite the fact that they share many common functionalities. Additional features like filtering, merging, and joining is accessible in a single-column DataFrame but not in a Series.\n",
    "\n",
    "- Data Alignment : Based on the index labels, a Pandas Series can be aligned with another Series or DataFrame. Even if the index labels are ordered differently, the alignment makes sure the data is correctly matched. Data alignment is also supported in a single-column DataFrame, but it is determined by the column label.\n",
    "\n",
    "- Performance : For actions that only involve one column of data, a Series performs more quickly than a single-column DataFrame. This is so because a Series has a more straightforward structure than a DataFrame with one column."
   ]
  },
  {
   "cell_type": "code",
   "execution_count": 7,
   "id": "5f430f4b-7fc6-4f26-b286-ac297adaf740",
   "metadata": {},
   "outputs": [
    {
     "name": "stdout",
     "output_type": "stream",
     "text": [
      "0    10\n",
      "1    20\n",
      "2    30\n",
      "3    40\n",
      "4    50\n",
      "dtype: int64\n"
     ]
    }
   ],
   "source": [
    "data = [10, 20, 30, 40, 50]\n",
    "s = pd.Series(data)\n",
    "print(s)"
   ]
  },
  {
   "cell_type": "code",
   "execution_count": 8,
   "id": "6c9f6e89-076c-4302-a6ca-8c6ce3b8e32d",
   "metadata": {},
   "outputs": [
    {
     "name": "stdout",
     "output_type": "stream",
     "text": [
      "   Column1\n",
      "0       10\n",
      "1       20\n",
      "2       30\n",
      "3       40\n",
      "4       50\n"
     ]
    }
   ],
   "source": [
    "data = [10, 20, 30, 40, 50]\n",
    "df = pd.DataFrame(data, columns=['Column1'])\n",
    "print(df)"
   ]
  },
  {
   "cell_type": "markdown",
   "id": "286240c5-1121-4fbb-9523-41315c6d4379",
   "metadata": {},
   "source": [
    "Q5. What are some common functions you can use to manipulate data in a Pandas DataFrame? Can\n",
    "you give an example of when you might use one of these functions?"
   ]
  },
  {
   "cell_type": "markdown",
   "id": "06c43541-19e7-454a-88f2-dec09f4c01a8",
   "metadata": {},
   "source": [
    "A5. In Machine Learning, the model requires a dataset to operate, i.e. to train and test. But data doesn’t come fully prepared and ready to use. There are discrepancies like “Nan”/ “Null” / “NA” values in many rows and columns. Sometimes the data set also contains some of the row and columns which are not even required in the operation of our model. In such conditions, it requires proper cleaning and modification of the data set to make it an efficient input for our model. We achieve that by practicing “Data Wrangling” before giving data input to the model."
   ]
  },
  {
   "cell_type": "code",
   "execution_count": 2,
   "id": "d96ab099-4a4d-463a-9370-71d2ceca55e1",
   "metadata": {},
   "outputs": [
    {
     "data": {
      "text/html": [
       "<div>\n",
       "<style scoped>\n",
       "    .dataframe tbody tr th:only-of-type {\n",
       "        vertical-align: middle;\n",
       "    }\n",
       "\n",
       "    .dataframe tbody tr th {\n",
       "        vertical-align: top;\n",
       "    }\n",
       "\n",
       "    .dataframe thead th {\n",
       "        text-align: right;\n",
       "    }\n",
       "</style>\n",
       "<table border=\"1\" class=\"dataframe\">\n",
       "  <thead>\n",
       "    <tr style=\"text-align: right;\">\n",
       "      <th></th>\n",
       "      <th>Name</th>\n",
       "      <th>Age</th>\n",
       "      <th>Student</th>\n",
       "    </tr>\n",
       "  </thead>\n",
       "  <tbody>\n",
       "    <tr>\n",
       "      <th>0</th>\n",
       "      <td>Abhijit</td>\n",
       "      <td>20</td>\n",
       "      <td>False</td>\n",
       "    </tr>\n",
       "    <tr>\n",
       "      <th>1</th>\n",
       "      <td>Smriti</td>\n",
       "      <td>19</td>\n",
       "      <td>True</td>\n",
       "    </tr>\n",
       "    <tr>\n",
       "      <th>2</th>\n",
       "      <td>Akash</td>\n",
       "      <td>20</td>\n",
       "      <td>True</td>\n",
       "    </tr>\n",
       "    <tr>\n",
       "      <th>3</th>\n",
       "      <td>Roshni</td>\n",
       "      <td>14</td>\n",
       "      <td>False</td>\n",
       "    </tr>\n",
       "  </tbody>\n",
       "</table>\n",
       "</div>"
      ],
      "text/plain": [
       "      Name  Age  Student\n",
       "0  Abhijit   20    False\n",
       "1   Smriti   19     True\n",
       "2    Akash   20     True\n",
       "3   Roshni   14    False"
      ]
     },
     "execution_count": 2,
     "metadata": {},
     "output_type": "execute_result"
    }
   ],
   "source": [
    "#Example\n",
    "student_register = pd.DataFrame()\n",
    "student_register['Name'] = ['Abhijit',\n",
    "                            'Smriti',\n",
    "                            'Akash',\n",
    "                            'Roshni']\n",
    " \n",
    "student_register['Age'] = [20, 19, 20, 14]\n",
    "student_register['Student'] = [False, True,\n",
    "                               True, False]\n",
    " \n",
    "student_register"
   ]
  },
  {
   "cell_type": "markdown",
   "id": "3d10734b-9a7b-493c-8aaf-844d8b2362c9",
   "metadata": {},
   "source": [
    "Q6. Which of the following is mutable in nature Series, DataFrame, Panel?"
   ]
  },
  {
   "cell_type": "markdown",
   "id": "7d61dc57-60bc-4a6b-b40a-99bdd30e0a7a",
   "metadata": {},
   "source": [
    "A6. All Pandas data structures are value mutable (can be changed) and except Series all are size mutable. Series is size immutable.\n",
    "Note − DataFrame is widely used and one of the most important data structures. Panel is used much less."
   ]
  },
  {
   "cell_type": "markdown",
   "id": "4d1ade29-4c54-45bb-8b3c-483f4e2e6e1d",
   "metadata": {},
   "source": [
    "Q7. Create a DataFrame using multiple Series. Explain with an example."
   ]
  },
  {
   "cell_type": "code",
   "execution_count": 3,
   "id": "32aeee04-d4bb-45f3-b061-02f378204657",
   "metadata": {},
   "outputs": [
    {
     "name": "stdout",
     "output_type": "stream",
     "text": [
      "   Author  Article  Age\n",
      "0    Lamb      111   21\n",
      "1  Vishal      222   21\n",
      "2   Utsav      333   24\n",
      "3    Ajay      444   23\n"
     ]
    }
   ],
   "source": [
    "series = pd.Series(['Lamb',\n",
    "          'Vishal', 'Utsav', 'Ajay'])\n",
    "q7_series = pd.Series([111, 222, 333, 444])\n",
    "frame = {'Author': series,\n",
    "         'Article': q7_series}\n",
    "result = pd.DataFrame(frame)\n",
    "age = [21, 21, 24, 23]\n",
    "result['Age'] = pd.Series(age)\n",
    "print(result)"
   ]
  },
  {
   "cell_type": "code",
   "execution_count": null,
   "id": "8372e6f1-0576-4bb7-8e15-03f2eae684e4",
   "metadata": {},
   "outputs": [],
   "source": []
  }
 ],
 "metadata": {
  "kernelspec": {
   "display_name": "Python 3 (ipykernel)",
   "language": "python",
   "name": "python3"
  },
  "language_info": {
   "codemirror_mode": {
    "name": "ipython",
    "version": 3
   },
   "file_extension": ".py",
   "mimetype": "text/x-python",
   "name": "python",
   "nbconvert_exporter": "python",
   "pygments_lexer": "ipython3",
   "version": "3.10.8"
  }
 },
 "nbformat": 4,
 "nbformat_minor": 5
}
